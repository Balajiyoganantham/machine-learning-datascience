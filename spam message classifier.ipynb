{
  "nbformat": 4,
  "nbformat_minor": 0,
  "metadata": {
    "colab": {
      "provenance": []
    },
    "kernelspec": {
      "name": "python3",
      "display_name": "Python 3"
    },
    "language_info": {
      "name": "python"
    }
  },
  "cells": [
    {
      "cell_type": "code",
      "source": [
        "pip install contractions\n"
      ],
      "metadata": {
        "colab": {
          "base_uri": "https://localhost:8080/"
        },
        "id": "2wzh1mXfovKj",
        "outputId": "12348f08-c3f9-42b2-bc69-23350ae164ca"
      },
      "execution_count": 2,
      "outputs": [
        {
          "output_type": "stream",
          "name": "stdout",
          "text": [
            "Collecting contractions\n",
            "  Downloading contractions-0.1.73-py2.py3-none-any.whl (8.7 kB)\n",
            "Collecting textsearch>=0.0.21 (from contractions)\n",
            "  Downloading textsearch-0.0.24-py2.py3-none-any.whl (7.6 kB)\n",
            "Collecting anyascii (from textsearch>=0.0.21->contractions)\n",
            "  Downloading anyascii-0.3.2-py3-none-any.whl (289 kB)\n",
            "\u001b[2K     \u001b[90m━━━━━━━━━━━━━━━━━━━━━━━━━━━━━━━━━━━━━━━━\u001b[0m \u001b[32m289.9/289.9 kB\u001b[0m \u001b[31m6.4 MB/s\u001b[0m eta \u001b[36m0:00:00\u001b[0m\n",
            "\u001b[?25hCollecting pyahocorasick (from textsearch>=0.0.21->contractions)\n",
            "  Downloading pyahocorasick-2.0.0-cp310-cp310-manylinux_2_5_x86_64.manylinux1_x86_64.manylinux_2_12_x86_64.manylinux2010_x86_64.whl (110 kB)\n",
            "\u001b[2K     \u001b[90m━━━━━━━━━━━━━━━━━━━━━━━━━━━━━━━━━━━━━━━━\u001b[0m \u001b[32m110.8/110.8 kB\u001b[0m \u001b[31m12.1 MB/s\u001b[0m eta \u001b[36m0:00:00\u001b[0m\n",
            "\u001b[?25hInstalling collected packages: pyahocorasick, anyascii, textsearch, contractions\n",
            "Successfully installed anyascii-0.3.2 contractions-0.1.73 pyahocorasick-2.0.0 textsearch-0.0.24\n"
          ]
        }
      ]
    },
    {
      "cell_type": "code",
      "source": [
        "import nltk\n",
        "nltk.download('stopwords')\n"
      ],
      "metadata": {
        "colab": {
          "base_uri": "https://localhost:8080/"
        },
        "id": "ZC4097hqrUlU",
        "outputId": "56df9ec6-a111-49f1-ea26-dcc029ec7b94"
      },
      "execution_count": 9,
      "outputs": [
        {
          "output_type": "stream",
          "name": "stderr",
          "text": [
            "[nltk_data] Downloading package stopwords to /root/nltk_data...\n",
            "[nltk_data]   Unzipping corpora/stopwords.zip.\n"
          ]
        },
        {
          "output_type": "execute_result",
          "data": {
            "text/plain": [
              "True"
            ]
          },
          "metadata": {},
          "execution_count": 9
        }
      ]
    },
    {
      "cell_type": "code",
      "source": [
        "!pip install nltk"
      ],
      "metadata": {
        "colab": {
          "base_uri": "https://localhost:8080/"
        },
        "id": "gYqhTHnXrlrp",
        "outputId": "2f9c188c-f11c-478c-bd03-1327d6ae43f7"
      },
      "execution_count": 11,
      "outputs": [
        {
          "output_type": "stream",
          "name": "stdout",
          "text": [
            "Requirement already satisfied: nltk in /usr/local/lib/python3.10/dist-packages (3.8.1)\n",
            "Requirement already satisfied: click in /usr/local/lib/python3.10/dist-packages (from nltk) (8.1.7)\n",
            "Requirement already satisfied: joblib in /usr/local/lib/python3.10/dist-packages (from nltk) (1.3.2)\n",
            "Requirement already satisfied: regex>=2021.8.3 in /usr/local/lib/python3.10/dist-packages (from nltk) (2023.12.25)\n",
            "Requirement already satisfied: tqdm in /usr/local/lib/python3.10/dist-packages (from nltk) (4.66.1)\n"
          ]
        }
      ]
    },
    {
      "cell_type": "code",
      "source": [
        "nltk.download('wordnet')"
      ],
      "metadata": {
        "colab": {
          "base_uri": "https://localhost:8080/"
        },
        "id": "YCu4v1oFrpWY",
        "outputId": "460cbd96-b3dd-4b6d-fd9f-c953fea59f58"
      },
      "execution_count": 12,
      "outputs": [
        {
          "output_type": "stream",
          "name": "stderr",
          "text": [
            "[nltk_data] Downloading package wordnet to /root/nltk_data...\n"
          ]
        },
        {
          "output_type": "execute_result",
          "data": {
            "text/plain": [
              "True"
            ]
          },
          "metadata": {},
          "execution_count": 12
        }
      ]
    },
    {
      "cell_type": "code",
      "source": [
        "import pandas as pd\n",
        "import numpy as np\n",
        "import re\n",
        "import collections\n",
        "import contractions\n",
        "import seaborn as sns\n",
        "import matplotlib.pyplot as plt\n",
        "plt.style.use('dark_background')\n",
        "import nltk\n",
        "from nltk.stem import WordNetLemmatizer\n",
        "from nltk.corpus import stopwords\n",
        "import warnings\n",
        "warnings.simplefilter(action='ignore', category=Warning)\n",
        "import keras\n",
        "from keras.layers import Dense, Embedding, LSTM, Dropout\n",
        "from keras.models import Sequential\n",
        "from keras.preprocessing.text import Tokenizer\n",
        "from keras.preprocessing.sequence import pad_sequences\n",
        "import pickle\n",
        "from sklearn.preprocessing import LabelEncoder\n",
        "\n",
        "# Importing the SMS spam detection dataset\n",
        "df = pd.read_csv(\"/content/drive/MyDrive/spam.csv\", encoding='latin-1')\n",
        "df\n",
        "df = df[['v1', 'v2']]\n",
        "df.columns = [\"SpamHam\",\"Tweet\"]\n",
        "\n",
        "# Plot the value counts of both spam and ham SMS\n",
        "sns.countplot(df[\"SpamHam\"])\n",
        "\n",
        "# Define a function to plot word count\n",
        "def word_count_plot(data):\n",
        "    word_counter = collections.Counter([word for sentence in data for word in sentence.split()])\n",
        "    most_count = word_counter.most_common(30)\n",
        "    most_count = pd.DataFrame(most_count, columns=[\"Word\", \"Count\"]).sort_values(by=\"Count\")\n",
        "    most_count.plot.barh(x = \"Word\", y = \"Count\", color=\"green\", figsize=(10, 15))\n",
        "\n",
        "word_count_plot(df[\"Tweet\"])\n",
        "\n",
        "# Define preprocessing function\n",
        "lem = WordNetLemmatizer()\n",
        "def preprocessing(data):\n",
        "    sms = contractions.fix(data)\n",
        "    sms = sms.lower()\n",
        "    sms = re.sub(r'https?://S+|www.S+', \"\", sms).strip()\n",
        "    sms = re.sub(\"[^a-z ]\", \"\", sms)\n",
        "    sms = sms.split()\n",
        "    sms = [lem.lemmatize(word) for word in sms if not word in set(stopwords.words(\"english\"))]\n",
        "    sms = \" \".join(sms)\n",
        "    return sms\n",
        "\n",
        "X = df[\"Tweet\"].apply(preprocessing)\n",
        "\n",
        "# Convert output feature into numerical form\n",
        "lb_enc = LabelEncoder()\n",
        "y = lb_enc.fit_transform(df[\"SpamHam\"])\n",
        "\n",
        "# Tokenize data and convert it into numerical sequence\n",
        "tokenizer = Tokenizer()\n",
        "tokenizer.fit_on_texts(X)\n",
        "text_to_sequence = tokenizer.texts_to_sequences(X)\n",
        "\n",
        "# Pad sequences\n",
        "max_length_sequence = max([len(i) for i in text_to_sequence])\n",
        "padded_sms_sequence = pad_sequences(text_to_sequence, maxlen=max_length_sequence, padding=\"pre\")\n",
        "\n",
        "# Define LSTM model\n",
        "TOT_SIZE = len(tokenizer.word_index) + 1\n",
        "def create_model():\n",
        "    lstm_model = Sequential()\n",
        "    lstm_model.add(Embedding(TOT_SIZE, 32, input_length=max_length_sequence))\n",
        "    lstm_model.add(LSTM(100))\n",
        "    lstm_model.add(Dropout(0.4))\n",
        "    lstm_model.add(Dense(20, activation=\"relu\"))\n",
        "    lstm_model.add(Dropout(0.3))\n",
        "    lstm_model.add(Dense(1, activation=\"sigmoid\"))\n",
        "    return lstm_model\n",
        "\n",
        "lstm_model = create_model()\n",
        "lstm_model.compile(loss=\"binary_crossentropy\", optimizer=\"adam\", metrics=[\"accuracy\"])\n",
        "\n",
        "# Train the model\n",
        "lstm_model.fit(padded_sms_sequence, y, epochs=5, validation_split=0.2, batch_size=16)\n",
        "\n",
        "# Save model and tokenizer\n",
        "pickle.dump(tokenizer, open(\"sms_spam_tokenizer.pkl\", \"wb\"))\n",
        "pickle.dump(lstm_model, open(\"lstm_model.pkl\", \"wb\"))\n"
      ],
      "metadata": {
        "colab": {
          "base_uri": "https://localhost:8080/",
          "height": 1000
        },
        "id": "jKljF5l3o1W5",
        "outputId": "5b976317-51fb-4cee-bf48-0e4be4616624"
      },
      "execution_count": 13,
      "outputs": [
        {
          "output_type": "stream",
          "name": "stdout",
          "text": [
            "Epoch 1/5\n",
            "279/279 [==============================] - 14s 43ms/step - loss: 0.1909 - accuracy: 0.9430 - val_loss: 0.0624 - val_accuracy: 0.9830\n",
            "Epoch 2/5\n",
            "279/279 [==============================] - 11s 38ms/step - loss: 0.0391 - accuracy: 0.9908 - val_loss: 0.0644 - val_accuracy: 0.9776\n",
            "Epoch 3/5\n",
            "279/279 [==============================] - 10s 36ms/step - loss: 0.0172 - accuracy: 0.9955 - val_loss: 0.0742 - val_accuracy: 0.9839\n",
            "Epoch 4/5\n",
            "279/279 [==============================] - 11s 39ms/step - loss: 0.0101 - accuracy: 0.9973 - val_loss: 0.0702 - val_accuracy: 0.9839\n",
            "Epoch 5/5\n",
            "279/279 [==============================] - 12s 41ms/step - loss: 0.0050 - accuracy: 0.9991 - val_loss: 0.0821 - val_accuracy: 0.9830\n"
          ]
        },
        {
          "output_type": "display_data",
          "data": {
            "text/plain": [
              "<Figure size 640x480 with 1 Axes>"
            ],
            "image/png": "[encoded data removed]"
          },
          "metadata": {}
        },
        {
          "output_type": "display_data",
          "data": {
            "text/plain": [
              "<Figure size 1000x1500 with 1 Axes>"
            ],
            "image/png": "[encoded data removed]"
          },
          "metadata": {}
        }
      ]
    },
    {
      "cell_type": "code",
      "source": [
        "# Define the maximum sequence length\n",
        "max_length_sequence = 100  # You can set this to the maximum sequence length used during training\n",
        "\n",
        "def predict_spam(text):\n",
        "    # Preprocess the text\n",
        "    preprocessed_text = preprocessing(text)\n",
        "\n",
        "    # Convert the preprocessed text to a sequence\n",
        "    text_sequence = tokenizer.texts_to_sequences([preprocessed_text])\n",
        "\n",
        "    # Pad the sequence\n",
        "    padded_text_sequence = pad_sequences(text_sequence, maxlen=max_length_sequence, padding=\"pre\")\n",
        "\n",
        "    # Predict the class (spam or not spam)\n",
        "    prediction = lstm_model.predict(padded_text_sequence)[0][0]\n",
        "\n",
        "    # Convert the prediction to a binary label\n",
        "    if prediction >= 0.5:\n",
        "        label = \"Spam\"\n",
        "    else:\n",
        "        label = \"Ham\"\n",
        "\n",
        "    # Return the prediction and label\n",
        "    return prediction, label\n",
        "\n",
        "# Get user input\n",
        "user_text = input(\"Enter your text: \")\n",
        "\n",
        "# Predict the spam probability and label\n",
        "prediction, label = predict_spam(user_text)\n",
        "\n",
        "# Print the results\n",
        "print(f\"Prediction: {prediction:.2f}\")\n",
        "print(f\"Label: {label}\")\n"
      ],
      "metadata": {
        "colab": {
          "base_uri": "https://localhost:8080/"
        },
        "id": "gpF9b0XZsdSQ",
        "outputId": "4e052537-0a2c-44f5-d7ea-471df80e2158"
      },
      "execution_count": 24,
      "outputs": [
        {
          "output_type": "stream",
          "name": "stdout",
          "text": [
            "Enter your text: Win up to Rs. 1,00,00,000* (1 Crore).  Dear 918248762314,  Win up to Rs. 1,00,00,000* (1 Crore) on Junglee Rummy!  Get up to Rs. 8850* Welcome Bonus in your  Junglee Rummy account 70+ Million Players.  Quick Cash Withdrawal.  Safe, Secure & Exciting.  T&C\n",
            "1/1 [==============================] - 0s 27ms/step\n",
            "Prediction: 0.70\n",
            "Label: Spam\n"
          ]
        }
      ]
    }
  ]
}